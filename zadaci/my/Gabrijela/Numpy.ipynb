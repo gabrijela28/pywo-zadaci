{
 "cells": [
  {
   "cell_type": "code",
   "execution_count": 42,
   "metadata": {
    "collapsed": false
   },
   "outputs": [
    {
     "data": {
      "text/plain": [
       "array([1, 2, 3, 4])"
      ]
     },
     "execution_count": 42,
     "metadata": {},
     "output_type": "execute_result"
    }
   ],
   "source": [
    "import numpy as np\n",
    "import matplotlib.pyplot as plt\n",
    "from sympy import init_printing\n",
    "init_printing()\n",
    "v=np.array([1,2,3,4])\n",
    "v\n",
    "\n"
   ]
  },
  {
   "cell_type": "code",
   "execution_count": 6,
   "metadata": {
    "collapsed": false
   },
   "outputs": [
    {
     "data": {
      "text/plain": [
       "array([[1, 2],\n",
       "       [3, 4]])"
      ]
     },
     "execution_count": 6,
     "metadata": {},
     "output_type": "execute_result"
    }
   ],
   "source": [
    "M = np.array([[1,2] , [3,4]])\n",
    "M"
   ]
  },
  {
   "cell_type": "code",
   "execution_count": 10,
   "metadata": {
    "collapsed": false
   },
   "outputs": [
    {
     "data": {
      "text/plain": [
       "4"
      ]
     },
     "execution_count": 10,
     "metadata": {},
     "output_type": "execute_result"
    }
   ],
   "source": [
    "v.size\n"
   ]
  },
  {
   "cell_type": "code",
   "execution_count": 18,
   "metadata": {
    "collapsed": false
   },
   "outputs": [
    {
     "name": "stdout",
     "output_type": "stream",
     "text": [
      "\"Month\",\"Average monthly temperatures across the world\"\n",
      "\"1951-01\",2.9\n",
      "\"1951-02\",5.0\n",
      "\"1951-03\",6.2\n",
      "\"1951-04\",11.1\n",
      "\"1951-05\",15.6\n",
      "\"1951-06\",19.1\n",
      "\"1951-07\",19.9\n",
      "\"1951-08\",21.2\n",
      "\"1951-09\",17.9\n",
      "\"1996-06\",20.4\n",
      "\"1996-07\",19.6\n",
      "\"1996-08\",20.7\n",
      "\"1996-09\",14.1\n",
      "\"1996-10\",12.2\n",
      "\"1996-11\",8.3\n",
      "\"1996-12\",?0.9\n",
      "\n",
      "Average monthly temperatures across the world\n",
      "\n",
      "/bin/sh: 1: tr\\-: not found\n",
      "/bin/sh: 1: te: not found\n"
     ]
    }
   ],
   "source": [
    "!head -10 average-monthly-temperatures-acr.csv\n",
    "\n",
    "!tail -10 average-monthly-temperatures-acr.csv\n",
    "!tr\"\\-\" \",\" <average-monthly-temperatures-acr.csv > b.csv\n",
    "!tr -d \"\\\"\" <b.csv >c.csv\n",
    "!te -d \"\\?\" <c.csv >d.csv\n"
   ]
  },
  {
   "cell_type": "code",
   "execution_count": 22,
   "metadata": {
    "collapsed": false
   },
   "outputs": [
    {
     "name": "stdout",
     "output_type": "stream",
     "text": [
      "Month,Average monthly temperatures across the world\r",
      "\r\n",
      "1951,01,2.9\r",
      "\r\n",
      "1951,02,5.0\r",
      "\r\n",
      "1951,03,6.2\r",
      "\r\n",
      "1951,04,11.1\r",
      "\r\n",
      "1951,05,15.6\r",
      "\r\n",
      "1951,06,19.1\r",
      "\r\n",
      "1951,07,19.9\r",
      "\r\n",
      "1951,08,21.2\r",
      "\r\n",
      "1951,09,17.9\r",
      "\r\n"
     ]
    }
   ],
   "source": [
    "!head podaci.txt"
   ]
  },
  {
   "cell_type": "code",
   "execution_count": 28,
   "metadata": {
    "collapsed": false
   },
   "outputs": [],
   "source": [
    "data = np.genfromtxt('podaci.txt', skiprows=1, skip_footer=True, delimiter=',', filling_values=0)"
   ]
  },
  {
   "cell_type": "code",
   "execution_count": 29,
   "metadata": {
    "collapsed": false
   },
   "outputs": [
    {
     "data": {
      "text/plain": [
       "((551, 3), dtype('float64'))"
      ]
     },
     "execution_count": 29,
     "metadata": {},
     "output_type": "execute_result"
    }
   ],
   "source": [
    "data.shape, data.dtype"
   ]
  },
  {
   "cell_type": "code",
   "execution_count": 31,
   "metadata": {
    "collapsed": false
   },
   "outputs": [
    {
     "data": {
      "text/plain": [
       "array([[  1.95100000e+03,   1.00000000e+00,   2.90000000e+00],\n",
       "       [  1.95100000e+03,   2.00000000e+00,   5.00000000e+00],\n",
       "       [  1.95100000e+03,   3.00000000e+00,   6.20000000e+00],\n",
       "       ..., \n",
       "       [  1.99600000e+03,   9.00000000e+00,   1.41000000e+01],\n",
       "       [  1.99600000e+03,   1.00000000e+01,   1.22000000e+01],\n",
       "       [  1.99600000e+03,   1.10000000e+01,   8.30000000e+00]])"
      ]
     },
     "execution_count": 31,
     "metadata": {},
     "output_type": "execute_result"
    }
   ],
   "source": [
    "data"
   ]
  },
  {
   "cell_type": "code",
   "execution_count": 33,
   "metadata": {
    "collapsed": false
   },
   "outputs": [
    {
     "data": {
      "text/plain": [
       "array([  1.95100000e+03,   1.00000000e+00,   2.90000000e+00])"
      ]
     },
     "execution_count": 33,
     "metadata": {},
     "output_type": "execute_result"
    }
   ],
   "source": [
    "data[0]"
   ]
  },
  {
   "cell_type": "code",
   "execution_count": 35,
   "metadata": {
    "collapsed": false
   },
   "outputs": [
    {
     "data": {
      "text/plain": [
       "1951.0"
      ]
     },
     "execution_count": 35,
     "metadata": {},
     "output_type": "execute_result"
    }
   ],
   "source": [
    "data[0,0]"
   ]
  },
  {
   "cell_type": "code",
   "execution_count": 48,
   "metadata": {
    "collapsed": false
   },
   "outputs": [
    {
     "data": {
      "text/plain": [
       "array([[  1.95100000e+03,   1.00000000e+00],\n",
       "       [  1.95100000e+03,   2.00000000e+00],\n",
       "       [  1.95100000e+03,   3.00000000e+00],\n",
       "       [  1.95100000e+03,   4.00000000e+00],\n",
       "       [  1.95100000e+03,   5.00000000e+00],\n",
       "       [  1.95100000e+03,   6.00000000e+00],\n",
       "       [  1.95100000e+03,   7.00000000e+00],\n",
       "       [  1.95100000e+03,   8.00000000e+00],\n",
       "       [  1.95100000e+03,   9.00000000e+00],\n",
       "       [  1.95100000e+03,   1.00000000e+01],\n",
       "       [  1.95100000e+03,   1.10000000e+01],\n",
       "       [  1.95100000e+03,   1.20000000e+01]])"
      ]
     },
     "execution_count": 48,
     "metadata": {},
     "output_type": "execute_result"
    }
   ],
   "source": [
    "data[0:12,0:2]"
   ]
  },
  {
   "cell_type": "code",
   "execution_count": 74,
   "metadata": {
    "collapsed": false
   },
   "outputs": [
    {
     "data": {
      "text/plain": [
       "array([[ 2.,  5.]])"
      ]
     },
     "execution_count": 74,
     "metadata": {},
     "output_type": "execute_result"
    }
   ],
   "source": [
    "veljaca =data[1:2:,1:3]\n",
    "veljaca"
   ]
  },
  {
   "cell_type": "code",
   "execution_count": 78,
   "metadata": {
    "collapsed": false
   },
   "outputs": [
    {
     "data": {
      "image/png": "[encoded data removed]",
      "text/latex": [
       "$$\\left ( 551, \\quad 3\\right )$$"
      ],
      "text/plain": [
       "(551, 3)"
      ]
     },
     "execution_count": 78,
     "metadata": {},
     "output_type": "execute_result"
    }
   ],
   "source": [
    "data.shape\n",
    "    "
   ]
  },
  {
   "cell_type": "code",
   "execution_count": 84,
   "metadata": {
    "collapsed": false
   },
   "outputs": [
    {
     "data": {
      "image/png": "[encoded data removed]",
      "text/latex": [
       "$$\\left ( 0.2, \\quad 8.2, \\quad 2.94130434783\\right )$$"
      ],
      "text/plain": [
       "(0.2, 8.2, 2.94130434783)"
      ]
     },
     "execution_count": 84,
     "metadata": {},
     "output_type": "execute_result"
    }
   ],
   "source": [
    "veljaca=[x[2] for x in data if x[1] ==2]\n",
    "np.min(veljaca), np.max(veljaca), np.mean(veljaca)\n",
    "        "
   ]
  },
  {
   "cell_type": "code",
   "execution_count": 85,
   "metadata": {
    "collapsed": false
   },
   "outputs": [
    {
     "data": {
      "image/png": "[encoded data removed]",
      "text/latex": [
       "$$\\left ( 18.2, \\quad 23.0, \\quad 20.4369565217\\right )$$"
      ],
      "text/plain": [
       "(18.2, 23.0, 20.4369565217)"
      ]
     },
     "execution_count": 85,
     "metadata": {},
     "output_type": "execute_result"
    }
   ],
   "source": [
    "srpanj = [x[2] for x in data if x[1]==7]\n",
    "np.min(srpanj), np.max(srpanj), np.mean(srpanj)"
   ]
  },
  {
   "cell_type": "code",
   "execution_count": 89,
   "metadata": {
    "collapsed": false
   },
   "outputs": [
    {
     "data": {
      "text/plain": [
       "(array([ 39.,  40.]), array([0, 1, 2]), <a list of 2 Patch objects>)"
      ]
     },
     "execution_count": 89,
     "metadata": {},
     "output_type": "execute_result"
    },
    {
     "data": {
      "image/png": "[encoded data removed]",
      "text/plain": [
       "<matplotlib.figure.Figure at 0x7f36efeb5320>"
      ]
     },
     "metadata": {},
     "output_type": "display_data"
    }
   ],
   "source": [
    "plt.hist(data[:,2], bins=np.arange(3))"
   ]
  },
  {
   "cell_type": "code",
   "execution_count": 92,
   "metadata": {
    "collapsed": false
   },
   "outputs": [
    {
     "data": {
      "image/png": "[encoded data removed]",
      "text/latex": [
       "$$2.06739130435$$"
      ],
      "text/plain": [
       "2.06739130435"
      ]
     },
     "execution_count": 92,
     "metadata": {},
     "output_type": "execute_result"
    }
   ],
   "source": [
    "sijecanj=[x[2] for x in data if x[1] ==1]\n",
    "np.mean(sijecanj)\n",
    "\n"
   ]
  },
  {
   "cell_type": "code",
   "execution_count": 94,
   "metadata": {
    "collapsed": false
   },
   "outputs": [
    {
     "data": {
      "image/png": "[encoded data removed]",
      "text/latex": [
       "$$6.09130434783$$"
      ],
      "text/plain": [
       "6.09130434783"
      ]
     },
     "execution_count": 94,
     "metadata": {},
     "output_type": "execute_result"
    }
   ],
   "source": [
    "ozujak=[x[2] for x in data if x[1] ==3]\n",
    "np.mean(ozujak)"
   ]
  },
  {
   "cell_type": "code",
   "execution_count": 105,
   "metadata": {
    "collapsed": false
   },
   "outputs": [],
   "source": [
    "mjeseci=[]\n",
    "rj=[]\n",
    "for i in range (1,12):\n",
    "    x=([x[2] for x in data if x[1] ==i])\n",
    "    mjeseci.append(np.mean(x))\n",
    "mjeseci\n",
    "dd=1\n",
    "for y in range (1,551):\n",
    "    z=dd%12\n",
    "    dd=dd+1\n",
    "    rj.append(data[y:y+1,2:3]-z)\n"
   ]
  },
  {
   "cell_type": "code",
   "execution_count": 109,
   "metadata": {
    "collapsed": false
   },
   "outputs": [],
   "source": [
    "prosjek = [np.average([x[2] for x in data if x[1]== mjesec]) for mjesec in range (1,13)]"
   ]
  },
  {
   "cell_type": "code",
   "execution_count": 110,
   "metadata": {
    "collapsed": false
   },
   "outputs": [
    {
     "ename": "ValueError",
     "evalue": "operands could not be broadcast together with shapes (551,) (552,) (551,) ",
     "output_type": "error",
     "traceback": [
      "\u001b[1;31m---------------------------------------------------------------------------\u001b[0m",
      "\u001b[1;31mValueError\u001b[0m                                Traceback (most recent call last)",
      "\u001b[1;32m<ipython-input-110-c00961dfb41e>\u001b[0m in \u001b[0;36m<module>\u001b[1;34m()\u001b[0m\n\u001b[0;32m      1\u001b[0m \u001b[0mprosjeci\u001b[0m\u001b[1;33m=\u001b[0m \u001b[0mnp\u001b[0m\u001b[1;33m.\u001b[0m\u001b[0marray\u001b[0m\u001b[1;33m(\u001b[0m\u001b[0mprosjek\u001b[0m\u001b[1;33m*\u001b[0m\u001b[1;36m46\u001b[0m\u001b[1;33m)\u001b[0m\u001b[1;33m\u001b[0m\u001b[0m\n\u001b[0;32m      2\u001b[0m \u001b[0modstupanje\u001b[0m\u001b[1;33m=\u001b[0m\u001b[0mdata\u001b[0m\u001b[1;33m\u001b[0m\u001b[0m\n\u001b[1;32m----> 3\u001b[1;33m \u001b[0modstupanje\u001b[0m\u001b[1;33m[\u001b[0m\u001b[1;33m:\u001b[0m\u001b[1;33m,\u001b[0m\u001b[1;36m2\u001b[0m\u001b[1;33m]\u001b[0m \u001b[1;33m-=\u001b[0m \u001b[0mprosjeci\u001b[0m\u001b[1;33m\u001b[0m\u001b[0m\n\u001b[0m",
      "\u001b[1;31mValueError\u001b[0m: operands could not be broadcast together with shapes (551,) (552,) (551,) "
     ]
    }
   ],
   "source": [
    "prosjeci= np.array(prosjek*46)\n",
    "odstupanje=data\n",
    "odstupanje[:,2] -= prosjeci"
   ]
  },
  {
   "cell_type": "code",
   "execution_count": 111,
   "metadata": {
    "collapsed": false
   },
   "outputs": [
    {
     "data": {
      "text/plain": [
       "[<matplotlib.lines.Line2D at 0x7f36efd8c7b8>]"
      ]
     },
     "execution_count": 111,
     "metadata": {},
     "output_type": "execute_result"
    },
    {
     "data": {
      "image/png": "[encoded data removed]",
      "text/plain": [
       "<matplotlib.figure.Figure at 0x7f36efb8ff28>"
      ]
     },
     "metadata": {},
     "output_type": "display_data"
    }
   ],
   "source": [
    "plt.plot(prosjek)"
   ]
  },
  {
   "cell_type": "code",
   "execution_count": 45,
   "metadata": {
    "collapsed": false
   },
   "outputs": [
    {
     "data": {
      "text/plain": [
       "[<matplotlib.lines.Line2D at 0x7f36f00e8940>]"
      ]
     },
     "execution_count": 45,
     "metadata": {},
     "output_type": "execute_result"
    },
    {
     "data": {
      "image/png": "[encoded data removed]",
      "text/plain": [
       "<matplotlib.figure.Figure at 0x7f36f017a358>"
      ]
     },
     "metadata": {},
     "output_type": "display_data"
    }
   ],
   "source": [
    "%matplotlib inline\n",
    "plt.plot(data[:,2])\n"
   ]
  },
  {
   "cell_type": "code",
   "execution_count": 47,
   "metadata": {
    "collapsed": false
   },
   "outputs": [
    {
     "data": {
      "image/png": "[encoded data removed]",
      "text/latex": [
       "$$10.8918330309$$"
      ],
      "text/plain": [
       "10.8918330309"
      ]
     },
     "execution_count": 47,
     "metadata": {},
     "output_type": "execute_result"
    }
   ],
   "source": [
    "np.mean(data[:,2])"
   ]
  },
  {
   "cell_type": "code",
   "execution_count": null,
   "metadata": {
    "collapsed": true
   },
   "outputs": [],
   "source": [
    "np.mean(data[:,2]) \n",
    "np.min(data[:,2])\n",
    "np.max(data)"
   ]
  }
 ],
 "metadata": {
  "kernelspec": {
   "display_name": "Python 3",
   "language": "python",
   "name": "python3"
  },
  "language_info": {
   "codemirror_mode": {
    "name": "ipython",
    "version": 3
   },
   "file_extension": ".py",
   "mimetype": "text/x-python",
   "name": "python",
   "nbconvert_exporter": "python",
   "pygments_lexer": "ipython3",
   "version": "3.4.0"
  }
 },
 "nbformat": 4,
 "nbformat_minor": 0
}
