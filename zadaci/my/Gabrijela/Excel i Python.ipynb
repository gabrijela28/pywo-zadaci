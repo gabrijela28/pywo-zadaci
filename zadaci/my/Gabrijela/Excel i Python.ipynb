{
 "cells": [
  {
   "cell_type": "code",
   "execution_count": 3,
   "metadata": {
    "collapsed": true
   },
   "outputs": [],
   "source": [
    "filename = \"../../03/pywo_some_data.xlsx\""
   ]
  },
  {
   "cell_type": "code",
   "execution_count": 5,
   "metadata": {
    "collapsed": false
   },
   "outputs": [
    {
     "name": "stdout",
     "output_type": "stream",
     "text": [
      "pywo_some_data.xlsx\r\n"
     ]
    }
   ],
   "source": [
    "!ls ../../03/"
   ]
  },
  {
   "cell_type": "code",
   "execution_count": 33,
   "metadata": {
    "collapsed": false
   },
   "outputs": [
    {
     "name": "stdout",
     "output_type": "stream",
     "text": [
      "\n",
      "Josip Mlakar, \n",
      "Elvis Popović, \n",
      "Vladimir Milašinović, \n",
      "Filip Rafajec, \n",
      "Matej Gucek, \n",
      "Jura Šolja, \n",
      "Gabrijela Grgača, \n",
      "Stjepan Rakarec, \n",
      "Davorin Špičko, \n",
      "Milan Pavlović, \n",
      "Senko Pušec, \n",
      "Filip Aleksić, \n",
      "Roman Tomašković, \n",
      "Peđa Čačić, \n",
      "Saša Poslončec,\n",
      "Mislav Zebić, \n",
      "Ian Žonja,\n",
      "Tomislav Cundić, \n",
      "Matija Kaniški,\n",
      "Petar Šestak,\n",
      "Ivana Završki,\n",
      "Vedran Vađunec, \n",
      "Matea Bodulušić, \n",
      "Andrea Danzante,\n"
     ]
    }
   ],
   "source": [
    "import xlrd\n",
    "\n",
    "workbook = xlrd.open_workbook(filename)\n",
    "\n",
    "sheet=workbook.sheet_by_index(0)\n",
    "sheet.col(0)\n",
    "\n",
    "L = [student.value for student in sheet.col(0)]\n",
    "\n",
    "for i in L:\n",
    "    i[:2]\n",
    "    print (i)\n",
    "\n",
    "\n",
    "\n",
    "\n",
    "\n",
    "\n",
    "\n"
   ]
  },
  {
   "cell_type": "code",
   "execution_count": 47,
   "metadata": {
    "collapsed": false
   },
   "outputs": [
    {
     "data": {
      "text/plain": [
       "['Josip', 'Mlakar']"
      ]
     },
     "execution_count": 47,
     "metadata": {},
     "output_type": "execute_result"
    }
   ],
   "source": [
    "def sredi(ime):\n",
    "    v = ime.strip(\",\")\n",
    "    listica = v.split()\n",
    "    \n",
    "    return listica[: :-1]\n",
    "    \n",
    "sredi('Mlakar Josip')"
   ]
  },
  {
   "cell_type": "code",
   "execution_count": 41,
   "metadata": {
    "collapsed": false
   },
   "outputs": [
    {
     "data": {
      "text/plain": [
       "['Josip Mlakar, ',\n",
       " 'Elvis Popović, ',\n",
       " 'Vladimir Milašinović, ',\n",
       " 'Filip Rafajec, ',\n",
       " 'Matej Gucek, ',\n",
       " 'Jura Šolja, ',\n",
       " 'Gabrijela Grgača, ',\n",
       " 'Stjepan Rakarec, ',\n",
       " 'Davorin Špičko, ',\n",
       " 'Milan Pavlović, ',\n",
       " 'Senko Pušec, ',\n",
       " 'Filip Aleksić, ',\n",
       " 'Roman Tomašković, ',\n",
       " 'Peđa Čačić, ',\n",
       " 'Saša Poslončec,',\n",
       " 'Mislav Zebić, ',\n",
       " 'Ian Žonja,',\n",
       " 'Tomislav Cundić, ',\n",
       " 'Matija Kaniški,',\n",
       " 'Petar Šestak,',\n",
       " 'Ivana Završki,',\n",
       " 'Vedran Vađunec, ',\n",
       " 'Matea Bodulušić, ',\n",
       " 'Andrea Danzante,']"
      ]
     },
     "execution_count": 41,
     "metadata": {},
     "output_type": "execute_result"
    }
   ],
   "source": [
    "#L=[student.value]\n",
    "\n",
    "M = [ x for x in L if x != '']\n",
    "M"
   ]
  },
  {
   "cell_type": "code",
   "execution_count": 44,
   "metadata": {
    "collapsed": false
   },
   "outputs": [
    {
     "data": {
      "text/plain": [
       "[['Aleksić,', 'Filip'],\n",
       " ['Bodulušić,', 'Matea'],\n",
       " ['Cundić,', 'Tomislav'],\n",
       " ['Danzante,', 'Andrea'],\n",
       " ['Grgača,', 'Gabrijela'],\n",
       " ['Gucek,', 'Matej'],\n",
       " ['Kaniški,', 'Matija'],\n",
       " ['Milašinović,', 'Vladimir'],\n",
       " ['Mlakar,', 'Josip'],\n",
       " ['Pavlović,', 'Milan'],\n",
       " ['Popović,', 'Elvis'],\n",
       " ['Poslončec,', 'Saša'],\n",
       " ['Pušec,', 'Senko'],\n",
       " ['Rafajec,', 'Filip'],\n",
       " ['Rakarec,', 'Stjepan'],\n",
       " ['Tomašković,', 'Roman'],\n",
       " ['Vađunec,', 'Vedran'],\n",
       " ['Završki,', 'Ivana'],\n",
       " ['Zebić,', 'Mislav'],\n",
       " ['Čačić,', 'Peđa'],\n",
       " ['Šestak,', 'Petar'],\n",
       " ['Šolja,', 'Jura'],\n",
       " ['Špičko,', 'Davorin'],\n",
       " ['Žonja,', 'Ian']]"
      ]
     },
     "execution_count": 44,
     "metadata": {},
     "output_type": "execute_result"
    }
   ],
   "source": [
    "P = [sredi(ime) for ime in M]\n",
    "sorted(P)"
   ]
  },
  {
   "cell_type": "code",
   "execution_count": 48,
   "metadata": {
    "collapsed": false
   },
   "outputs": [
    {
     "data": {
      "text/plain": [
       "[['Danzante,', 'Andrea'],\n",
       " ['Špičko,', 'Davorin'],\n",
       " ['Popović,', 'Elvis'],\n",
       " ['Rafajec,', 'Filip'],\n",
       " ['Aleksić,', 'Filip'],\n",
       " ['Grgača,', 'Gabrijela'],\n",
       " ['Žonja,', 'Ian'],\n",
       " ['Završki,', 'Ivana'],\n",
       " ['Mlakar,', 'Josip'],\n",
       " ['Šolja,', 'Jura'],\n",
       " ['Bodulušić,', 'Matea'],\n",
       " ['Gucek,', 'Matej'],\n",
       " ['Kaniški,', 'Matija'],\n",
       " ['Pavlović,', 'Milan'],\n",
       " ['Zebić,', 'Mislav'],\n",
       " ['Šestak,', 'Petar'],\n",
       " ['Čačić,', 'Peđa'],\n",
       " ['Tomašković,', 'Roman'],\n",
       " ['Poslončec,', 'Saša'],\n",
       " ['Pušec,', 'Senko'],\n",
       " ['Rakarec,', 'Stjepan'],\n",
       " ['Cundić,', 'Tomislav'],\n",
       " ['Vađunec,', 'Vedran'],\n",
       " ['Milašinović,', 'Vladimir']]"
      ]
     },
     "execution_count": 48,
     "metadata": {},
     "output_type": "execute_result"
    }
   ],
   "source": [
    "sorted(P, key=lambda x:x[1])"
   ]
  },
  {
   "cell_type": "code",
   "execution_count": 49,
   "metadata": {
    "collapsed": true
   },
   "outputs": [],
   "source": [
    "import re"
   ]
  }
 ],
 "metadata": {
  "kernelspec": {
   "display_name": "Python 3",
   "language": "python",
   "name": "python3"
  },
  "language_info": {
   "codemirror_mode": {
    "name": "ipython",
    "version": 3
   },
   "file_extension": ".py",
   "mimetype": "text/x-python",
   "name": "python",
   "nbconvert_exporter": "python",
   "pygments_lexer": "ipython3",
   "version": "3.4.0"
  }
 },
 "nbformat": 4,
 "nbformat_minor": 0
}
