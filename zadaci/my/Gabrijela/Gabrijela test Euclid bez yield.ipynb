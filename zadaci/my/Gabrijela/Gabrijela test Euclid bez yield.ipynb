{
 "cells": [
  {
   "cell_type": "code",
   "execution_count": 1,
   "metadata": {
    "collapsed": false
   },
   "outputs": [
    {
     "name": "stdout",
     "output_type": "stream",
     "text": [
      "112=13*8+8\n",
      "13=8*1+5\n",
      "8=5*1+3\n",
      "5=3*1+2\n",
      "3=2*1+1\n",
      "2=1*2+0\n"
     ]
    }
   ],
   "source": [
    "a = 112\n",
    "b= 13\n",
    "\n",
    "c=int(a/b)\n",
    "r= a-b*c\n",
    "print(str(a)+ \"=\"+ str(b) +\"*\" + str(c)+\"+\"+str(r))\n",
    "while (r>0):\n",
    "    a=b\n",
    "    b=r\n",
    "    c=int(a/b)\n",
    "    r= a-b*c\n",
    "    print(str(a)+ \"=\"+ str(b) +\"*\" + str(c)+\"+\"+str(r))"
   ]
  },
  {
   "cell_type": "code",
   "execution_count": null,
   "metadata": {
    "collapsed": false
   },
   "outputs": [],
   "source": [
    "\n",
    "            "
   ]
  }
 ],
 "metadata": {
  "kernelspec": {
   "display_name": "Python 3",
   "language": "python",
   "name": "python3"
  },
  "language_info": {
   "codemirror_mode": {
    "name": "ipython",
    "version": 3
   },
   "file_extension": ".py",
   "mimetype": "text/x-python",
   "name": "python",
   "nbconvert_exporter": "python",
   "pygments_lexer": "ipython3",
   "version": "3.4.0"
  }
 },
 "nbformat": 4,
 "nbformat_minor": 0
}
