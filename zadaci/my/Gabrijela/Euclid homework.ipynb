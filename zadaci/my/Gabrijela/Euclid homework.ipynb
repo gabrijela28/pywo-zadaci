{
 "cells": [
  {
   "cell_type": "code",
   "execution_count": 36,
   "metadata": {
    "collapsed": false
   },
   "outputs": [
    {
     "name": "stdout",
     "output_type": "stream",
     "text": [
      "112 = 13 * 8 + 8\n",
      "13 = 8 * 1 + 5\n",
      "8 = 5 * 1 + 3\n",
      "5 = 3 * 1 + 2\n",
      "3 = 2 * 1 + 1\n",
      "2 = 1 * 2 + 0\n"
     ]
    }
   ],
   "source": [
    "def kvocijent(a,b):\n",
    "    q= int(a/b)\n",
    "    r=a-b*q\n",
    "    yield str(a) + \" = \"+ str(b) + \" * \" + str(q) + \" + \" + str(r)\n",
    "    while (r>0):\n",
    "        a=b\n",
    "        b=r\n",
    "        q=int(a/b)\n",
    "        r=a-b*q\n",
    "        yield str(a) + \" = \"+ str(b) + \" * \" + str(q) + \" + \" + str(r)\n",
    "        \n",
    "    \n",
    "\n",
    "for x in kvocijent(112, 13):\n",
    "    print(x)"
   ]
  },
  {
   "cell_type": "code",
   "execution_count": 33,
   "metadata": {
    "collapsed": false
   },
   "outputs": [
    {
     "name": "stdout",
     "output_type": "stream",
     "text": [
      "112\n",
      "13\n",
      "8\n",
      "5\n",
      "3\n",
      "2\n",
      "1\n"
     ]
    }
   ],
   "source": [
    "def quo_g(a, b):\n",
    "    q= int(a/b)\n",
    "    r=a-b*q\n",
    "    yield q\n",
    "    while (r>0):\n",
    "        a=b\n",
    "        b=r\n",
    "        q=int(a/b)\n",
    "        r=a-b*q\n",
    "        yield q\n",
    "\n",
    "\n",
    "def rem_g(a,b):\n",
    "    q= int(a/b)\n",
    "    r=a-b*q\n",
    "    yield a\n",
    "    yield b\n",
    "    yield r\n",
    "    while (r>1):\n",
    "        a=b\n",
    "        b=r\n",
    "        q=int(a/b)\n",
    "        r=a-b*q\n",
    "        yield r\n",
    "\n",
    "for x in rem_g(112,13):\n",
    "    print(x)\n",
    "    \n",
    "\n",
    "\n"
   ]
  },
  {
   "cell_type": "code",
   "execution_count": 34,
   "metadata": {
    "collapsed": false
   },
   "outputs": [
    {
     "name": "stdout",
     "output_type": "stream",
     "text": [
      "8\n",
      "1\n",
      "1\n",
      "1\n",
      "1\n",
      "2\n"
     ]
    }
   ],
   "source": [
    "for y in quo_g(112,13):\n",
    "    print(y)\n",
    "    \n",
    "#list(quo_q(112,13)) == [8,1,1,1,1,1]"
   ]
  }
 ],
 "metadata": {
  "kernelspec": {
   "display_name": "Python 3",
   "language": "python",
   "name": "python3"
  },
  "language_info": {
   "codemirror_mode": {
    "name": "ipython",
    "version": 3
   },
   "file_extension": ".py",
   "mimetype": "text/x-python",
   "name": "python",
   "nbconvert_exporter": "python",
   "pygments_lexer": "ipython3",
   "version": "3.4.0"
  }
 },
 "nbformat": 4,
 "nbformat_minor": 0
}
