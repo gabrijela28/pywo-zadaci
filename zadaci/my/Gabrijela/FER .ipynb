{
 "cells": [
  {
   "cell_type": "code",
   "execution_count": 54,
   "metadata": {
    "collapsed": false
   },
   "outputs": [
    {
     "data": {
      "image/png": "[encoded data removed]",
      "text/latex": [
       "$$- x^{4} + 3 x^{2} + x + 2$$"
      ],
      "text/plain": [
       "   4      2        \n",
       "- x  + 3⋅x  + x + 2"
      ]
     },
     "execution_count": 54,
     "metadata": {},
     "output_type": "execute_result"
    }
   ],
   "source": [
    "import scipy as sp\n",
    "import numpy as np\n",
    "import matplotlib.pyplot as plt\n",
    "from sympy import init_printing\n",
    "init_printing()\n",
    "import sympy as sym\n",
    "from sympy.plotting import plot\n",
    "\n",
    "\n",
    "\n",
    "x= sym.symbols('x')\n",
    "g =((-x**4 )+ (3*x**2) + (x +2))\n",
    "g\n",
    "   \n",
    "\n",
    "\n"
   ]
  },
  {
   "cell_type": "code",
   "execution_count": 45,
   "metadata": {
    "collapsed": false
   },
   "outputs": [
    {
     "data": {
      "image/png": "[encoded data removed]",
      "text/latex": [
       "$$\\left [ 2, \\quad - \\frac{2}{3} - \\frac{1}{9 \\left(- \\frac{1}{2} - \\frac{\\sqrt{3} i}{2}\\right) \\sqrt[3]{\\frac{\\sqrt{69}}{18} + \\frac{25}{54}}} - \\left(- \\frac{1}{2} - \\frac{\\sqrt{3} i}{2}\\right) \\sqrt[3]{\\frac{\\sqrt{69}}{18} + \\frac{25}{54}}, \\quad - \\frac{2}{3} - \\left(- \\frac{1}{2} + \\frac{\\sqrt{3} i}{2}\\right) \\sqrt[3]{\\frac{\\sqrt{69}}{18} + \\frac{25}{54}} - \\frac{1}{9 \\left(- \\frac{1}{2} + \\frac{\\sqrt{3} i}{2}\\right) \\sqrt[3]{\\frac{\\sqrt{69}}{18} + \\frac{25}{54}}}, \\quad - \\sqrt[3]{\\frac{\\sqrt{69}}{18} + \\frac{25}{54}} - \\frac{2}{3} - \\frac{1}{9 \\sqrt[3]{\\frac{\\sqrt{69}}{18} + \\frac{25}{54}}}\\right ]$$"
      ],
      "text/plain": [
       "⎡                                                                     ________\n",
       "⎢                                                ⎛        ___  ⎞     ╱   ____ \n",
       "⎢     2                    1                     ⎜  1   ╲╱ 3 ⋅ⅈ⎟    ╱  ╲╱ 69  \n",
       "⎢2, - ─ - ──────────────────────────────────── - ⎜- ─ - ───────⎟⋅3 ╱   ────── \n",
       "⎢     3                          _____________   ⎝  2      2   ⎠ ╲╱      18   \n",
       "⎢           ⎛        ___  ⎞     ╱   ____                                      \n",
       "⎢           ⎜  1   ╲╱ 3 ⋅ⅈ⎟    ╱  ╲╱ 69    25                                 \n",
       "⎢         9⋅⎜- ─ - ───────⎟⋅3 ╱   ────── + ──                                 \n",
       "⎣           ⎝  2      2   ⎠ ╲╱      18     54                                 \n",
       "\n",
       "_____                             _____________                               \n",
       "             ⎛        ___  ⎞     ╱   ____                                     \n",
       "  25     2   ⎜  1   ╲╱ 3 ⋅ⅈ⎟    ╱  ╲╱ 69    25                     1          \n",
       "+ ── , - ─ - ⎜- ─ + ───────⎟⋅3 ╱   ────── + ──  - ────────────────────────────\n",
       "  54     3   ⎝  2      2   ⎠ ╲╱      18     54                           _____\n",
       "                                                    ⎛        ___  ⎞     ╱   __\n",
       "                                                    ⎜  1   ╲╱ 3 ⋅ⅈ⎟    ╱  ╲╱ 6\n",
       "                                                  9⋅⎜- ─ + ───────⎟⋅3 ╱   ────\n",
       "                                                    ⎝  2      2   ⎠ ╲╱      18\n",
       "\n",
       "                 _____________                           ⎤\n",
       "                ╱   ____                                 ⎥\n",
       "               ╱  ╲╱ 69    25    2            1          ⎥\n",
       "────────, - 3 ╱   ────── + ──  - ─ - ────────────────────⎥\n",
       "________    ╲╱      18     54    3          _____________⎥\n",
       "__                                         ╱   ____      ⎥\n",
       "9    25                                   ╱  ╲╱ 69    25 ⎥\n",
       "── + ──                              9⋅3 ╱   ────── + ── ⎥\n",
       "     54                                ╲╱      18     54 ⎦"
      ]
     },
     "execution_count": 45,
     "metadata": {},
     "output_type": "execute_result"
    }
   ],
   "source": [
    "nultocke = sym.solve(g)\n",
    "nultocke\n",
    "   \n",
    "   \n"
   ]
  },
  {
   "cell_type": "code",
   "execution_count": 58,
   "metadata": {
    "collapsed": false
   },
   "outputs": [
    {
     "data": {
      "text/plain": [
       "<map at 0x7f1a5212d978>"
      ]
     },
     "execution_count": 58,
     "metadata": {},
     "output_type": "execute_result"
    }
   ],
   "source": [
    "%matplotlib inline\n",
    "map(sym.N, nultocke)\n",
    "   \n"
   ]
  },
  {
   "cell_type": "code",
   "execution_count": 59,
   "metadata": {
    "collapsed": false
   },
   "outputs": [
    {
     "data": {
      "image/png": "[encoded data removed]",
      "text/plain": [
       "<matplotlib.figure.Figure at 0x7f1a520030f0>"
      ]
     },
     "metadata": {},
     "output_type": "display_data"
    },
    {
     "data": {
      "text/plain": [
       "<sympy.plotting.plot.Plot at 0x7f1a51f9db70>"
      ]
     },
     "execution_count": 59,
     "metadata": {},
     "output_type": "execute_result"
    }
   ],
   "source": [
    "%matplotlib inline\n",
    "sym.plot(g,(x,-3,3), ylim=(-1,6))\n",
    "   \n"
   ]
  },
  {
   "cell_type": "code",
   "execution_count": 48,
   "metadata": {
    "collapsed": false
   },
   "outputs": [
    {
     "data": {
      "image/png": "[encoded data removed]",
      "text/latex": [
       "$$\\left [ \\left(- \\frac{1}{2} - \\frac{\\sqrt{3} i}{2}\\right) \\sqrt[3]{\\frac{1}{8} + \\frac{\\sqrt{7} i}{8}} + \\frac{1}{2 \\left(- \\frac{1}{2} - \\frac{\\sqrt{3} i}{2}\\right) \\sqrt[3]{\\frac{1}{8} + \\frac{\\sqrt{7} i}{8}}}, \\quad \\frac{1}{2 \\left(- \\frac{1}{2} + \\frac{\\sqrt{3} i}{2}\\right) \\sqrt[3]{\\frac{1}{8} + \\frac{\\sqrt{7} i}{8}}} + \\left(- \\frac{1}{2} + \\frac{\\sqrt{3} i}{2}\\right) \\sqrt[3]{\\frac{1}{8} + \\frac{\\sqrt{7} i}{8}}, \\quad \\frac{1}{2 \\sqrt[3]{\\frac{1}{8} + \\frac{\\sqrt{7} i}{8}}} + \\sqrt[3]{\\frac{1}{8} + \\frac{\\sqrt{7} i}{8}}\\right ]$$"
      ],
      "text/plain": [
       "⎡                     _____________                                           \n",
       "⎢⎛        ___  ⎞     ╱       ___                                              \n",
       "⎢⎜  1   ╲╱ 3 ⋅ⅈ⎟    ╱  1   ╲╱ 7 ⋅ⅈ                     1                      \n",
       "⎢⎜- ─ - ───────⎟⋅3 ╱   ─ + ───────  + ────────────────────────────────────, ──\n",
       "⎢⎝  2      2   ⎠ ╲╱    8      8                              _____________    \n",
       "⎢                                       ⎛        ___  ⎞     ╱       ___       \n",
       "⎢                                       ⎜  1   ╲╱ 3 ⋅ⅈ⎟    ╱  1   ╲╱ 7 ⋅ⅈ     \n",
       "⎢                                     2⋅⎜- ─ - ───────⎟⋅3 ╱   ─ + ───────   2⋅\n",
       "⎣                                       ⎝  2      2   ⎠ ╲╱    8      8        \n",
       "\n",
       "                                                          _____________       \n",
       "                                     ⎛        ___  ⎞     ╱       ___          \n",
       "               1                     ⎜  1   ╲╱ 3 ⋅ⅈ⎟    ╱  1   ╲╱ 7 ⋅ⅈ        \n",
       "────────────────────────────────── + ⎜- ─ + ───────⎟⋅3 ╱   ─ + ─────── , ─────\n",
       "                     _____________   ⎝  2      2   ⎠ ╲╱    8      8           \n",
       "⎛        ___  ⎞     ╱       ___                                               \n",
       "⎜  1   ╲╱ 3 ⋅ⅈ⎟    ╱  1   ╲╱ 7 ⋅ⅈ                                             \n",
       "⎜- ─ + ───────⎟⋅3 ╱   ─ + ───────                                        2⋅3 ╱\n",
       "⎝  2      2   ⎠ ╲╱    8      8                                             ╲╱ \n",
       "\n",
       "                       _____________⎤\n",
       "                      ╱       ___   ⎥\n",
       "    1                ╱  1   ╲╱ 7 ⋅ⅈ ⎥\n",
       "─────────────── + 3 ╱   ─ + ─────── ⎥\n",
       "  _____________   ╲╱    8      8    ⎥\n",
       " ╱       ___                        ⎥\n",
       "╱  1   ╲╱ 7 ⋅ⅈ                      ⎥\n",
       "   ─ + ───────                      ⎥\n",
       "   8      8                         ⎦"
      ]
     },
     "execution_count": 48,
     "metadata": {},
     "output_type": "execute_result"
    }
   ],
   "source": [
    "ekstremi = sym.solve(sym.diff(g))\n",
    "ekstremi\n",
    "    \n"
   ]
  },
  {
   "cell_type": "code",
   "execution_count": 57,
   "metadata": {
    "collapsed": false
   },
   "outputs": [
    {
     "data": {
      "text/plain": [
       "<map at 0x7f1a520e5358>"
      ]
     },
     "execution_count": 57,
     "metadata": {},
     "output_type": "execute_result"
    }
   ],
   "source": [
    "\n",
    "map(sym.N, ekstremi)"
   ]
  }
 ],
 "metadata": {
  "kernelspec": {
   "display_name": "Python 3",
   "language": "python",
   "name": "python3"
  },
  "language_info": {
   "codemirror_mode": {
    "name": "ipython",
    "version": 3
   },
   "file_extension": ".py",
   "mimetype": "text/x-python",
   "name": "python",
   "nbconvert_exporter": "python",
   "pygments_lexer": "ipython3",
   "version": "3.4.0"
  }
 },
 "nbformat": 4,
 "nbformat_minor": 0
}
